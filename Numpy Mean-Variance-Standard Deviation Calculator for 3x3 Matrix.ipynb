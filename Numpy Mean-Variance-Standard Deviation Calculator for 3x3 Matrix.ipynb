{
 "cells": [
  {
   "cell_type": "markdown",
   "id": "fe5423fc",
   "metadata": {},
   "source": [
    "# Mean-Variance-Standard Deviation Calculator for 3x3 Matrix with Numpy"
   ]
  },
  {
   "cell_type": "markdown",
   "id": "b6a96be0",
   "metadata": {},
   "source": [
    "<div class=\"alert alert-block alert-info\">\n",
    "<b>Description:</b> The input of the function should be a list containing 9 digits. The function should convert the list into a 3 x 3 Numpy array, and then return a dictionary containing the mean, variance, standard deviation, max, min, and sum along both axes and for the flattened matrix.\n",
    "</div>"
   ]
  },
  {
   "cell_type": "markdown",
   "id": "bd471a61",
   "metadata": {},
   "source": [
    "***"
   ]
  },
  {
   "cell_type": "code",
   "execution_count": 4,
   "id": "4051879f",
   "metadata": {},
   "outputs": [],
   "source": [
    "import numpy as np"
   ]
  },
  {
   "cell_type": "code",
   "execution_count": 5,
   "id": "469cd616",
   "metadata": {},
   "outputs": [],
   "source": [
    "def calculate(list):\n",
    "  if len(list) != 9:\n",
    "    raise ValueError(\"List must contain nine numbers.\")    \n",
    "  \n",
    "  matrix = np.array(list)\n",
    "  matrix_3x3 = matrix.reshape((3, 3))\n",
    "  flattened_matrix = matrix_3x3.flatten()\n",
    "  \n",
    "  mean = [matrix_3x3.mean(axis = 0).tolist(), \n",
    "          matrix_3x3.mean(axis = 1).tolist(),\n",
    "          flattened_matrix.mean().tolist()]\n",
    "  variance = [matrix_3x3.var(axis = 0).tolist(),\n",
    "              matrix_3x3.var(axis = 1).tolist(),\n",
    "              flattened_matrix.var().tolist()]\n",
    "  standard_deviation = [matrix_3x3.std(axis = 0).tolist(),\n",
    "                        matrix_3x3.std(axis = 1).tolist(),\n",
    "                        flattened_matrix.std().tolist()]\n",
    "  max = [matrix_3x3.max(axis = 0).tolist(),\n",
    "         matrix_3x3.max(axis = 1).tolist(),\n",
    "         flattened_matrix.max().tolist()]\n",
    "  min = [matrix_3x3.min(axis = 0).tolist(),\n",
    "         matrix_3x3.min(axis = 1).tolist(),\n",
    "         flattened_matrix.min().tolist()]\n",
    "  sum = [matrix_3x3.sum(axis = 0).tolist(),\n",
    "         matrix_3x3.sum(axis = 1).tolist(),\n",
    "         flattened_matrix.sum().tolist()]\n",
    "  \n",
    "  calculations = {\n",
    "    'mean': mean,\n",
    "    'variance': variance,\n",
    "    'standard deviation': standard_deviation,\n",
    "    'max': max,\n",
    "    'min':min,\n",
    "    'sum': sum\n",
    "  }\n",
    "  return calculations"
   ]
  },
  {
   "cell_type": "markdown",
   "id": "619f0e0e",
   "metadata": {},
   "source": [
    "## Example"
   ]
  },
  {
   "cell_type": "code",
   "execution_count": 6,
   "id": "1acdf46c",
   "metadata": {},
   "outputs": [
    {
     "data": {
      "text/plain": [
       "{'mean': [[3.6666666666666665, 5.0, 3.0],\n",
       "  [3.3333333333333335, 4.0, 4.333333333333333],\n",
       "  3.888888888888889],\n",
       " 'variance': [[9.555555555555557, 0.6666666666666666, 8.666666666666666],\n",
       "  [3.555555555555556, 10.666666666666666, 6.222222222222221],\n",
       "  6.987654320987654],\n",
       " 'standard deviation': [[3.091206165165235,\n",
       "   0.816496580927726,\n",
       "   2.943920288775949],\n",
       "  [1.8856180831641267, 3.265986323710904, 2.494438257849294],\n",
       "  2.6434171674156266],\n",
       " 'max': [[8, 6, 7], [6, 8, 7], 8],\n",
       " 'min': [[1, 4, 0], [2, 0, 1], 0],\n",
       " 'sum': [[11, 15, 9], [10, 12, 13], 35]}"
      ]
     },
     "execution_count": 6,
     "metadata": {},
     "output_type": "execute_result"
    }
   ],
   "source": [
    "calculate([2,6,2,8,4,0,1,5,7])"
   ]
  }
 ],
 "metadata": {
  "kernelspec": {
   "display_name": "Python 3 (ipykernel)",
   "language": "python",
   "name": "python3"
  },
  "language_info": {
   "codemirror_mode": {
    "name": "ipython",
    "version": 3
   },
   "file_extension": ".py",
   "mimetype": "text/x-python",
   "name": "python",
   "nbconvert_exporter": "python",
   "pygments_lexer": "ipython3",
   "version": "3.9.7"
  }
 },
 "nbformat": 4,
 "nbformat_minor": 5
}
